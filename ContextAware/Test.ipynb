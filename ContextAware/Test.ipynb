{
 "cells": [
  {
   "cell_type": "code",
   "execution_count": 1,
   "metadata": {},
   "outputs": [],
   "source": [
    "%load_ext autoreload\n",
    "%autoreload 2"
   ]
  },
  {
   "cell_type": "code",
   "execution_count": 16,
   "metadata": {},
   "outputs": [],
   "source": [
    "import models\n",
    "\n",
    "config = {\n",
    "    \"vocab_size\": 10,\n",
    "    \"word_emb_size\": 10,\n",
    "    \"word_emb_dropout\": 0.5,\n",
    "    \"sen_dropout\": 0.5,\n",
    "    \"sen_hidden_size\": 32,\n",
    "    \"sen_attention_size\": 32,\n",
    "    \"max_sen_size\": 40,\n",
    "    \"with_cuda\": True\n",
    "}\n",
    "\n",
    "model = models.BiAttentionSenMessRNN(config)\n",
    "\n",
    "if config[\"with_cuda\"]:\n",
    "    model.cuda()\n",
    "\n",
    "batch_x = ([\n",
    "                [1,2,3]\n",
    "           ], \n",
    "           [\n",
    "                [[1,2,3], [4,5]]\n",
    "           ] )\n",
    "\n",
    "r = model(batch_x)"
   ]
  },
  {
   "cell_type": "code",
   "execution_count": 17,
   "metadata": {},
   "outputs": [
    {
     "data": {
      "text/plain": [
       "{'mess_attention': [Variable containing:\n",
       "   0.5293  0.4707\n",
       "   0.5313  0.4687\n",
       "   0.5264  0.4736\n",
       "  [torch.cuda.FloatTensor of size 3x2 (GPU 0)]],\n",
       " 'representation': Variable containing:\n",
       " \n",
       " Columns 0 to 9 \n",
       "  0.0998  0.0577 -0.0242 -0.2806  0.1863 -0.1410 -0.3900  0.0282 -0.0987  0.0587\n",
       " \n",
       " Columns 10 to 19 \n",
       " -0.0388 -0.0727  0.0162  0.0694 -0.1203  0.2328  0.0616  0.1093 -0.0427 -0.1111\n",
       " \n",
       " Columns 20 to 29 \n",
       " -0.3215 -0.1289 -0.1814 -0.1081  0.0183 -0.2275 -0.0521  0.0537  0.0934  0.2351\n",
       " \n",
       " Columns 30 to 39 \n",
       " -0.0928  0.0971  0.0026 -0.0802 -0.0348  0.0839  0.0979  0.2969  0.0211 -0.1962\n",
       " \n",
       " Columns 40 to 49 \n",
       " -0.1527  0.2421 -0.1723 -0.1797 -0.1485  0.3292  0.2157  0.0560 -0.0801  0.1708\n",
       " \n",
       " Columns 50 to 59 \n",
       "  0.2041  0.0742 -0.0693  0.0037  0.0917  0.1690 -0.0611  0.0178  0.0107 -0.1081\n",
       " \n",
       " Columns 60 to 69 \n",
       "  0.2699  0.0399  0.1058  0.0477 -0.0798  0.2157  0.0027 -0.0232  0.0996 -0.1092\n",
       " \n",
       " Columns 70 to 79 \n",
       "  0.0351  0.0146 -0.2410  0.0451  0.1668  0.0593  0.1749 -0.0764 -0.2647  0.1376\n",
       " \n",
       " Columns 80 to 89 \n",
       " -0.2431 -0.1349 -0.2011 -0.1393 -0.1449  0.0467  0.1418 -0.0409 -0.0932 -0.0177\n",
       " \n",
       " Columns 90 to 99 \n",
       "  0.1184 -0.0153 -0.0131  0.0697 -0.0457  0.0316 -0.0727 -0.0384  0.0117  0.0865\n",
       " \n",
       " Columns 100 to 109 \n",
       " -0.0607 -0.0345  0.1893 -0.0771 -0.0527  0.1714 -0.0908  0.0078  0.0357  0.1121\n",
       " \n",
       " Columns 110 to 119 \n",
       "  0.0143 -0.0102 -0.0838  0.0706 -0.0357  0.2022  0.1267 -0.0047 -0.0520  0.0907\n",
       " \n",
       " Columns 120 to 127 \n",
       " -0.0961 -0.1127  0.1522  0.0824  0.1980 -0.0745  0.1208  0.1941\n",
       " [torch.cuda.FloatTensor of size 1x128 (GPU 0)],\n",
       " 'sen_attention': Variable containing:\n",
       "  0.3313  0.3435  0.3252\n",
       " [torch.cuda.FloatTensor of size 1x3 (GPU 0)]}"
      ]
     },
     "execution_count": 17,
     "metadata": {},
     "output_type": "execute_result"
    }
   ],
   "source": [
    "r"
   ]
  }
 ],
 "metadata": {
  "kernelspec": {
   "display_name": "Python 3",
   "language": "python",
   "name": "python3"
  },
  "language_info": {
   "codemirror_mode": {
    "name": "ipython",
    "version": 3
   },
   "file_extension": ".py",
   "mimetype": "text/x-python",
   "name": "python",
   "nbconvert_exporter": "python",
   "pygments_lexer": "ipython3",
   "version": "3.6.3"
  }
 },
 "nbformat": 4,
 "nbformat_minor": 2
}
